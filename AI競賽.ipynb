{
 "cells": [
  {
   "cell_type": "markdown",
   "metadata": {},
   "source": [
    "### 讀檔案"
   ]
  },
  {
   "cell_type": "code",
   "execution_count": 1,
   "metadata": {},
   "outputs": [
    {
     "name": "stdout",
     "output_type": "stream",
     "text": [
      "(7500, 4)\n",
      "加工品質量測結果:0.306\n"
     ]
    },
    {
     "data": {
      "text/html": [
       "<div>\n",
       "<style scoped>\n",
       "    .dataframe tbody tr th:only-of-type {\n",
       "        vertical-align: middle;\n",
       "    }\n",
       "\n",
       "    .dataframe tbody tr th {\n",
       "        vertical-align: top;\n",
       "    }\n",
       "\n",
       "    .dataframe thead th {\n",
       "        text-align: right;\n",
       "    }\n",
       "</style>\n",
       "<table border=\"1\" class=\"dataframe\">\n",
       "  <thead>\n",
       "    <tr style=\"text-align: right;\">\n",
       "      <th></th>\n",
       "      <th>col0</th>\n",
       "      <th>col1</th>\n",
       "      <th>col2</th>\n",
       "      <th>col3</th>\n",
       "    </tr>\n",
       "  </thead>\n",
       "  <tbody>\n",
       "    <tr>\n",
       "      <th>0</th>\n",
       "      <td>2.29658e-05</td>\n",
       "      <td>2.12655e-05</td>\n",
       "      <td>1.98152e-05</td>\n",
       "      <td>2.05591e-05</td>\n",
       "    </tr>\n",
       "    <tr>\n",
       "      <th>1</th>\n",
       "      <td>2.25512e-05</td>\n",
       "      <td>2.04522e-05</td>\n",
       "      <td>1.65414e-05</td>\n",
       "      <td>3.7598e-06</td>\n",
       "    </tr>\n",
       "    <tr>\n",
       "      <th>2</th>\n",
       "      <td>1.12122e-05</td>\n",
       "      <td>1.06301e-05</td>\n",
       "      <td>9.00514e-06</td>\n",
       "      <td>8.94675e-07</td>\n",
       "    </tr>\n",
       "  </tbody>\n",
       "</table>\n",
       "</div>"
      ],
      "text/plain": [
       "          col0         col1         col2         col3\n",
       "0  2.29658e-05  2.12655e-05  1.98152e-05  2.05591e-05\n",
       "1  2.25512e-05  2.04522e-05  1.65414e-05   3.7598e-06\n",
       "2  1.12122e-05  1.06301e-05  9.00514e-06  8.94675e-07"
      ]
     },
     "execution_count": 1,
     "metadata": {},
     "output_type": "execute_result"
    }
   ],
   "source": [
    "import rarfile\n",
    "import os\n",
    "import pandas as pd\n",
    "import numpy as np\n",
    "from sklearn import preprocessing\n",
    "\n",
    "# Set to full path of unrar.exe if it is not in PATH\n",
    "rarfile.UNRAR_TOOL = \"unrar.exe\"\n",
    "\n",
    "# Set to '\\\\' to be more compatible with old rarfile\n",
    "rarfile.PATH_SEP = '\\\\'\n",
    "\n",
    "rar_path = os.getcwd() + \"\\\\\" + \"sample_data.rar\"\n",
    "test_path = os.getcwd() + \"\\\\\" + \"831測驗集.rar\"\n",
    "\n",
    "\n",
    "def un_rar(file_name):\n",
    "    rar = rarfile.RarFile(file_name)\n",
    "    rar.extractall()\n",
    "    rar.close()\n",
    "\n",
    "def OnlyNum(s,oth=''):      \n",
    "    fomart = '.0123456789'  \n",
    "    for c in s:   \n",
    "        if not c in fomart:   \n",
    "             s = s.replace(c,''); \n",
    "    s = float(s)                            # str2num\n",
    "   # if s > 1.0:\n",
    "   #     s = 1.0\n",
    "    return s\n",
    "\n",
    "# 訓練資料的名稱\n",
    "train_rar = rarfile.RarFile(rar_path)\n",
    "rar_namelist = train_rar.namelist()        # type list\n",
    "\n",
    "# 測試資料的名稱\n",
    "test_rar = rarfile.RarFile(test_path)\n",
    "test_namelist = test_rar.namelist()\n",
    "\n",
    "# 讀取初始資料\n",
    "df_ex = pd.read_excel(str(rar_namelist[0]))\n",
    "df_test = pd.read_excel(str(test_namelist[0]))\n",
    "\n",
    "# 將第一列insert維dataframe的columns(因為讀取檔案將數值設定為cols)\n",
    "ar_ex = df_ex.values            # dataframe轉array\n",
    "ar_ex = np.insert(ar_ex, 0, values=df_ex.columns, axis=0)\n",
    "df_ex = pd.DataFrame(ar_ex, columns=['col0', 'col1', 'col2', 'col3'])  # array轉dataframe\n",
    "\n",
    "\n",
    "label_ex = df_ex.loc[df_ex.shape[0]-1, 'col0']             # 目標(第0行最後一列)\n",
    "df_ex = df_ex.drop([df_ex.shape[0]-1])                     # dataframe去掉最後一列\n",
    "\n",
    "print(df_ex.shape)\n",
    "print(label_ex)\n",
    "df_ex.head(3)"
   ]
  },
  {
   "cell_type": "markdown",
   "metadata": {},
   "source": [
    "### 訓練資料(train_set)、驗證資料(validation_set)和標籤(Label)"
   ]
  },
  {
   "cell_type": "code",
   "execution_count": 2,
   "metadata": {},
   "outputs": [
    {
     "name": "stdout",
     "output_type": "stream",
     "text": [
      "train set shape： (30, 30000)\n",
      "train label shape： (30, 1)\n",
      "validation set shape： (10, 30000)\n",
      "validation label shape： (10, 1)\n",
      "test set shape： (10, 30000)\n"
     ]
    }
   ],
   "source": [
    "def read_data(rar_namelist, tag=1, validation_percent=10):\n",
    "    df_row_num = df_ex.shape[0]\n",
    "    df_col_num = df_ex.shape[1]\n",
    "    \n",
    "    data_set = np.zeros(shape=(len(rar_namelist)-1, df_row_num*df_col_num))\n",
    " \n",
    "    if tag == 0:\n",
    "        label_df = pd.DataFrame(columns=['label'])\n",
    "        \n",
    "    for i in range(len(rar_namelist)-1):                  # 40\n",
    "        df = pd.read_excel(str(rar_namelist[i]))\n",
    "        ar = np.insert(df.values, 0, values=df.columns, axis=0)\n",
    "        df = pd.DataFrame(ar, columns=['col0', 'col1', 'col2', 'col3'])  # array轉dataframe\n",
    "        if tag == 0:\n",
    "            label_df = label_df.append({'label': OnlyNum(df.loc[df.shape[0]-1, 'col0'])}, ignore_index=True)\n",
    "            df = df.drop([df.shape[0]-1])\n",
    "        \n",
    "        data_set[i, 0:df_row_num] = df['col0']\n",
    "        data_set[i, df_row_num:df_row_num*2] = df['col1']\n",
    "        data_set[i, df_row_num*2:df_row_num*3] = df['col2']\n",
    "        data_set[i, df_row_num*3:df_row_num*4] = df['col3']\n",
    "        \n",
    "    # 資料標準化(0~1)\n",
    "    #min_max_scaler = preprocessing.MinMaxScaler()\n",
    "    #data_set = min_max_scaler.fit_transform(data_set)\n",
    "    \n",
    "    if tag != 0:\n",
    "        return data_set\n",
    "    \n",
    "    # 隨機將訓練資料分為訓練資料和驗證資料\n",
    "    permutations = np.random.permutation(data_set.shape[0])   # 隨機排列\n",
    "    data_set = data_set[permutations]\n",
    "    train_label = label_df.values[permutations]\n",
    "\n",
    "    validation_set = data_set[:validation_percent]            # 取後面10%\n",
    "    validation_label = train_label[:validation_percent]\n",
    "\n",
    "    train_set = data_set[validation_percent:]                 # 取前面90%\n",
    "    train_label = train_label[validation_percent:]\n",
    "        \n",
    "    return train_set, train_label, validation_set, validation_label\n",
    "\n",
    "\n",
    "train_set, train_label, validation_set, validation_label = read_data(rar_namelist, 0)\n",
    "test_set = read_data(test_namelist)\n",
    "\n",
    "print(\"train set shape：\", train_set.shape)\n",
    "print(\"train label shape：\", train_label.shape)\n",
    "print(\"validation set shape：\", validation_set.shape)\n",
    "print(\"validation label shape：\", validation_label.shape)\n",
    "print(\"test set shape：\", test_set.shape)"
   ]
  },
  {
   "cell_type": "markdown",
   "metadata": {},
   "source": [
    "### NN model"
   ]
  },
  {
   "cell_type": "code",
   "execution_count": 3,
   "metadata": {},
   "outputs": [
    {
     "name": "stderr",
     "output_type": "stream",
     "text": [
      "C:\\Users\\Ncuee_lab418\\Anaconda3\\lib\\site-packages\\h5py\\__init__.py:36: FutureWarning: Conversion of the second argument of issubdtype from `float` to `np.floating` is deprecated. In future, it will be treated as `np.float64 == np.dtype(float).type`.\n",
      "  from ._conv import register_converters as _register_converters\n"
     ]
    }
   ],
   "source": [
    "import tensorflow as tf\n",
    "\n",
    "# Parameters\n",
    "learning_rate = 0.01\n",
    "steps = 3000\n",
    "display_step = 100\n",
    "\n",
    "# Network Parameters\n",
    "n_hidden_1 = 128   # 1st layer number of neurons\n",
    "n_hidden_2 = 256   # 2nd layer number of neurons\n",
    "num_input = 30000    \n",
    "num_classes = 1    # output\n",
    "\n",
    "# tf Graph input and outpur\n",
    "X = tf.placeholder(tf.float32, [None, num_input])\n",
    "Y = tf.placeholder(tf.float32, [None, 1])"
   ]
  },
  {
   "cell_type": "code",
   "execution_count": 4,
   "metadata": {},
   "outputs": [],
   "source": [
    "# Store layers weight & bias\n",
    "weights = {\n",
    "    'h1': tf.Variable(tf.random_normal([num_input, n_hidden_1])),\n",
    "    'h2': tf.Variable(tf.random_normal([n_hidden_1, n_hidden_2])),\n",
    "    'out': tf.Variable(tf.random_normal([n_hidden_2, num_classes]))\n",
    "}\n",
    "biases = {\n",
    "    'b1': tf.Variable(tf.random_normal([n_hidden_1])),\n",
    "    'b2': tf.Variable(tf.random_normal([n_hidden_2])),\n",
    "    'out': tf.Variable(tf.random_normal([num_classes]))\n",
    "}"
   ]
  },
  {
   "cell_type": "code",
   "execution_count": 5,
   "metadata": {},
   "outputs": [],
   "source": [
    "# Create model\n",
    "def neural_net(x):\n",
    "    # 1st Hidden fully connected layer with 200 neurons\n",
    "    layer_1 = tf.add(tf.matmul(x, weights['h1']), biases['b1'])\n",
    "    \n",
    "    # 2nd Hidden fully connected layer with 300 neurons\n",
    "    layer_2 = tf.add(tf.matmul(layer_1, weights['h2']), biases['b2'])\n",
    "    \n",
    "    # Output fully connected layer with a neuron for each class\n",
    "    out_layer = tf.matmul(layer_2, weights['out']) + biases['out']\n",
    "    return out_layer"
   ]
  },
  {
   "cell_type": "code",
   "execution_count": 6,
   "metadata": {},
   "outputs": [],
   "source": [
    "# Construct model(預測)\n",
    "logits = neural_net(X)    # 最後面沒經過activation function\n",
    "tf_pred = logits\n",
    "#tf_pred = tf.nn.relu(logits)\n",
    "\n",
    "# Define loss(MSE) \n",
    "#tf_loss = tf.reduce_mean(tf.nn.sigmoid_cross_entropy_with_logits(logits=logits, labels=Y))\n",
    "tf_loss = tf.reduce_mean(tf.reduce_sum(tf.square(Y - tf_pred)))       # Y丟標籤值\n",
    "\n",
    "#Define optimizer(Adam)\n",
    "optimizer = tf.train.AdamOptimizer(learning_rate = learning_rate)\n",
    "#optimizer = tf.train.AdagradOptimizer(learning_rate = learning_rate)\n",
    "train_op = optimizer.minimize(tf_loss)\n",
    "\n",
    "# Define accuracy\n",
    "correct_diff = 1 - tf.abs((Y-tf_pred)/Y)                            # 計算向量內每一個的準確率\n",
    "tf_acc = 100*tf.reduce_mean(tf.cast(correct_diff, tf.float32))      # 準確率取平均"
   ]
  },
  {
   "cell_type": "markdown",
   "metadata": {},
   "source": [
    "### Train"
   ]
  },
  {
   "cell_type": "code",
   "execution_count": 7,
   "metadata": {},
   "outputs": [
    {
     "name": "stdout",
     "output_type": "stream",
     "text": [
      "Step 1, training Loss= 514877.6875, Training Accuracy= -45206.949219\n",
      "Step 100, training Loss= 7.7665, Training Accuracy= -70.683441\n",
      "Step 200, training Loss= 0.2075, Training Accuracy= 73.964577\n",
      "Step 300, training Loss= 0.1826, Training Accuracy= 75.911781\n",
      "Step 400, training Loss= 0.1658, Training Accuracy= 77.912727\n",
      "Step 500, training Loss= 0.1584, Training Accuracy= 79.793434\n",
      "Step 600, training Loss= 0.1582, Training Accuracy= 80.788269\n",
      "Step 700, training Loss= 0.1619, Training Accuracy= 80.931892\n",
      "Step 800, training Loss= 0.1675, Training Accuracy= 80.391426\n",
      "Step 900, training Loss= 0.1730, Training Accuracy= 79.999802\n",
      "Step 1000, training Loss= 0.1776, Training Accuracy= 79.789124\n",
      "Step 1100, training Loss= 0.1809, Training Accuracy= 79.741272\n",
      "Step 1200, training Loss= 0.1832, Training Accuracy= 79.798141\n",
      "Step 1300, training Loss= 0.1846, Training Accuracy= 79.923759\n",
      "Step 1400, training Loss= 0.1854, Training Accuracy= 80.094704\n",
      "Step 1500, training Loss= 0.1857, Training Accuracy= 80.300728\n",
      "Step 1600, training Loss= 0.1861, Training Accuracy= 80.498840\n",
      "Step 1700, training Loss= 0.1864, Training Accuracy= 80.699799\n",
      "Step 1800, training Loss= 0.1867, Training Accuracy= 80.743057\n",
      "Step 1900, training Loss= 0.1871, Training Accuracy= 80.711143\n",
      "Step 2000, training Loss= 0.1877, Training Accuracy= 80.689926\n",
      "Step 2100, training Loss= 0.1882, Training Accuracy= 80.668671\n",
      "Step 2200, training Loss= 0.1888, Training Accuracy= 80.656036\n",
      "Step 2300, training Loss= 0.1894, Training Accuracy= 80.631485\n",
      "Step 2400, training Loss= 0.1901, Training Accuracy= 80.612854\n",
      "Step 2500, training Loss= 0.1907, Training Accuracy= 80.589340\n",
      "Step 2600, training Loss= 0.1914, Training Accuracy= 80.570747\n",
      "Step 2700, training Loss= 0.1919, Training Accuracy= 80.553665\n",
      "Step 2800, training Loss= 0.1924, Training Accuracy= 80.535156\n",
      "Step 2900, training Loss= 0.1929, Training Accuracy= 80.519691\n",
      "Step 3000, training Loss= 0.1933, Training Accuracy= 80.503975\n",
      "Model saved in path: tmp/model.ckpt\n",
      "Train Finished takes: 106.86758589744568\n"
     ]
    }
   ],
   "source": [
    "from time import time\n",
    "# 計算時間\n",
    "startTime = time()\n",
    "\n",
    "# 訓練過程資料\n",
    "history = [(0, np.nan, 10)] # Initial Error Measures\n",
    "\n",
    "# 儲存model\n",
    "saver = tf.train.Saver()\n",
    "\n",
    "# Initialize the variables (i.e. assign their default value)\n",
    "init = tf.global_variables_initializer()\n",
    "sess = tf.Session()\n",
    "sess.run(init)         # Run the initializer\n",
    "\n",
    "# 計算時間\n",
    "startTime = time()\n",
    "\n",
    "# 跑steps次(epoch=steps/display_step)\n",
    "for step in range(1, steps+1):\n",
    "    fd = {X:train_set, Y:train_label}\n",
    "    sess.run(train_op, feed_dict=fd)\n",
    "\n",
    "    # training loss\n",
    "    if step % display_step == 0 or step==1:\n",
    "        # Calculate loss and accuracy\n",
    "        fd = {X:validation_set, Y:validation_label}\n",
    "        val_loss, val_acc = sess.run([tf_loss, tf_acc], feed_dict=fd)     \n",
    "        \n",
    "        history.append((step, val_loss, val_acc))\n",
    "        print(\"Step \" + str(step) + \", training Loss= \" + \"{:.4f}\".format(val_loss) +\n",
    "                                    \", Training Accuracy= \" + \"{:f}\".format(val_acc))\n",
    "\n",
    "save_path = saver.save(sess, \"tmp/model.ckpt\")\n",
    "print(\"Model saved in path: %s\" % save_path)\n",
    "sess.close\n",
    "\n",
    "duration = time()-startTime\n",
    "print(\"Train Finished takes:\", duration)"
   ]
  },
  {
   "cell_type": "markdown",
   "metadata": {},
   "source": [
    "### 畫出loss誤差和accuracy準確率執行結果"
   ]
  },
  {
   "cell_type": "code",
   "execution_count": 8,
   "metadata": {},
   "outputs": [
    {
     "name": "stderr",
     "output_type": "stream",
     "text": [
      "C:\\Users\\Ncuee_lab418\\Anaconda3\\lib\\site-packages\\matplotlib\\cbook\\deprecation.py:107: MatplotlibDeprecationWarning: Adding an axes using the same arguments as a previous axes currently reuses the earlier instance.  In a future version, a new instance will always be created and returned.  Meanwhile, this warning can be suppressed, and the future behavior ensured, by passing a unique label to each axes instance.\n",
      "  warnings.warn(message, mplDeprecation, stacklevel=1)\n"
     ]
    },
    {
     "data": {
      "image/png": "[encoded data removed]",
      "text/plain": [
       "<Figure size 432x288 with 2 Axes>"
      ]
     },
     "metadata": {},
     "output_type": "display_data"
    }
   ],
   "source": [
    "%matplotlib inline\n",
    "import matplotlib.pyplot as plt\n",
    "\n",
    "steps, loss, acc = zip(*history)\n",
    "\n",
    "fig = plt.figure()\n",
    "plt.title('Validation Loss / Accuracy')\n",
    "ax_loss = fig.add_subplot(111)\n",
    "ax_acc = ax_loss.twinx()\n",
    "plt.xlabel('Training Steps')\n",
    "plt.xlim(0, max(steps))\n",
    "\n",
    "ax_loss.plot(steps, loss, '-o', color='C0')\n",
    "ax_loss.set_ylabel('Log Loss', color='C0');\n",
    "ax_loss.tick_params('y', colors='C0')\n",
    "ax_loss.set_ylim(0.01, 1.5)\n",
    "\n",
    "ax_acc.plot(steps, acc, '-o', color='C1')\n",
    "ax_acc.set_ylabel('Accuracy [%]', color='C1');\n",
    "ax_acc.tick_params('y', colors='C1')\n",
    "ax_acc.set_ylim(1,100)\n",
    "\n",
    "plt.show()"
   ]
  },
  {
   "cell_type": "markdown",
   "metadata": {},
   "source": [
    "### 預測測試資料"
   ]
  },
  {
   "cell_type": "code",
   "execution_count": 9,
   "metadata": {},
   "outputs": [
    {
     "name": "stdout",
     "output_type": "stream",
     "text": [
      "INFO:tensorflow:Restoring parameters from tmp/model.ckpt\n",
      "Model restored.\n",
      "[[0.36559963]\n",
      " [0.62116146]\n",
      " [0.52091885]\n",
      " [0.60631466]\n",
      " [0.5720892 ]\n",
      " [0.5464392 ]\n",
      " [0.7319174 ]\n",
      " [0.67551327]\n",
      " [0.4772482 ]\n",
      " [0.50916195]]\n"
     ]
    }
   ],
   "source": [
    "saver = tf.train.Saver()\n",
    "# 還原model並預測\n",
    "with tf.Session() as sess:\n",
    "    saver.restore(sess, \"tmp/model.ckpt\")\n",
    "    print(\"Model restored.\")\n",
    "    test_preds = sess.run(tf_pred, feed_dict={X:test_set})\n",
    "    print(test_preds)"
   ]
  },
  {
   "cell_type": "code",
   "execution_count": 10,
   "metadata": {},
   "outputs": [],
   "source": [
    "# 輸出結果為.csv檔\n",
    "df = pd.DataFrame(test_preds)\n",
    "df[0].to_csv(\"submission.csv\", index=False)"
   ]
  },
  {
   "cell_type": "code",
   "execution_count": null,
   "metadata": {},
   "outputs": [],
   "source": []
  }
 ],
 "metadata": {
  "kernelspec": {
   "display_name": "Python 3",
   "language": "python",
   "name": "python3"
  },
  "language_info": {
   "codemirror_mode": {
    "name": "ipython",
    "version": 3
   },
   "file_extension": ".py",
   "mimetype": "text/x-python",
   "name": "python",
   "nbconvert_exporter": "python",
   "pygments_lexer": "ipython3",
   "version": "3.6.5"
  }
 },
 "nbformat": 4,
 "nbformat_minor": 2
}
